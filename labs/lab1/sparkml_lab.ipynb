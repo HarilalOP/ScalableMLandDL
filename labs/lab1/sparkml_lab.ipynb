{
 "cells": [
  {
   "cell_type": "markdown",
   "metadata": {},
   "source": [
    "# Machine Learning With Spark ML\n",
    "In this lab assignment, you will complete a project by going through the following steps:\n",
    "1. Get the data.\n",
    "2. Discover the data to gain insights.\n",
    "3. Prepare the data for Machine Learning algorithms.\n",
    "4. Select a model and train it.\n",
    "5. Fine-tune your model.\n",
    "6. Present your solution.\n",
    "\n",
    "As a dataset, we use the California Housing Prices dataset from the StatLib repository. This dataset was based on data from the 1990 California census. The dataset has the following columns\n",
    "1. `longitude`: a measure of how far west a house is (a higher value is farther west)\n",
    "2. `latitude`: a measure of how far north a house is (a higher value is farther north)\n",
    "3. `housing_,median_age`: median age of a house within a block (a lower number is a newer building)\n",
    "4. `total_rooms`: total number of rooms within a block\n",
    "5. `total_bedrooms`: total number of bedrooms within a block\n",
    "6. `population`: total number of people residing within a block\n",
    "7. `households`: total number of households, a group of people residing within a home unit, for a block\n",
    "8. `median_income`: median income for households within a block of houses\n",
    "9. `median_house_value`: median house value for households within a block\n",
    "10. `ocean_proximity`: location of the house w.r.t ocean/sea\n",
    "\n",
    "---\n",
    "# 1. Get the data\n",
    "Let's start the lab by loading the dataset. The can find the dataset at `data/housing.csv`. To infer column types automatically, when you are reading the file, you need to set `inferSchema` to true. Moreover enable the `header` option to read the columns' name from the file."
   ]
  },
  {
   "cell_type": "code",
   "execution_count": 1,
   "metadata": {},
   "outputs": [
    {
     "data": {
      "text/plain": [
       "housing = [longitude: double, latitude: double ... 8 more fields]\n"
      ]
     },
     "metadata": {},
     "output_type": "display_data"
    },
    {
     "data": {
      "text/plain": [
       "[longitude: double, latitude: double ... 8 more fields]"
      ]
     },
     "execution_count": 1,
     "metadata": {},
     "output_type": "execute_result"
    }
   ],
   "source": [
    "// TODO: Replace <FILL IN> with appropriate code\n",
    "\n",
    "val housing = spark.read.format(\"csv\").option(\"inferSchema\", \"true\").option(\"header\", \"true\").load(\"data/housing.csv\")"
   ]
  },
  {
   "cell_type": "markdown",
   "metadata": {},
   "source": [
    "---\n",
    "# 2. Discover the data to gain insights\n",
    "Now it is time to take a look at the data. In this step we are going to take a look at the data a few different ways:\n",
    "* See the schema and dimension of the dataset\n",
    "* Look at the data itself\n",
    "* Statistical summary of the attributes\n",
    "* Breakdown of the data by the categorical attribute variable\n",
    "* Find the correlation among different attributes\n",
    "* Make new attributes by combining existing attributes"
   ]
  },
  {
   "cell_type": "markdown",
   "metadata": {},
   "source": [
    "## 2.1. Schema and dimension\n",
    "Print the schema of the dataset"
   ]
  },
  {
   "cell_type": "code",
   "execution_count": 2,
   "metadata": {},
   "outputs": [
    {
     "name": "stdout",
     "output_type": "stream",
     "text": [
      "root\n",
      " |-- longitude: double (nullable = true)\n",
      " |-- latitude: double (nullable = true)\n",
      " |-- housing_median_age: double (nullable = true)\n",
      " |-- total_rooms: double (nullable = true)\n",
      " |-- total_bedrooms: double (nullable = true)\n",
      " |-- population: double (nullable = true)\n",
      " |-- households: double (nullable = true)\n",
      " |-- median_income: double (nullable = true)\n",
      " |-- median_house_value: double (nullable = true)\n",
      " |-- ocean_proximity: string (nullable = true)\n",
      "\n"
     ]
    }
   ],
   "source": [
    "// TODO: Replace <FILL IN> with appropriate code\n",
    "\n",
    "housing.printSchema()"
   ]
  },
  {
   "cell_type": "markdown",
   "metadata": {},
   "source": [
    "Print the number of records in the dataset."
   ]
  },
  {
   "cell_type": "code",
   "execution_count": 3,
   "metadata": {},
   "outputs": [
    {
     "data": {
      "text/plain": [
       "20640"
      ]
     },
     "execution_count": 3,
     "metadata": {},
     "output_type": "execute_result"
    }
   ],
   "source": [
    "// TODO: Replace <FILL IN> with appropriate code\n",
    "\n",
    "housing.count()"
   ]
  },
  {
   "cell_type": "markdown",
   "metadata": {},
   "source": [
    "## 2.2. Look at the data\n",
    "Print the first five records of the dataset."
   ]
  },
  {
   "cell_type": "code",
   "execution_count": 4,
   "metadata": {},
   "outputs": [
    {
     "data": {
      "text/html": [
       "<table>\n",
       "<tr><td>-122.23</td><td>37.88</td><td>41.0</td><td>880.0</td><td>129.0</td><td>322.0</td><td>126.0</td><td>8.3252</td><td>452600.0</td><td>NEAR BAY</td></tr>\n",
       "<tr><td>-122.22</td><td>37.86</td><td>21.0</td><td>7099.0</td><td>1106.0</td><td>2401.0</td><td>1138.0</td><td>8.3014</td><td>358500.0</td><td>NEAR BAY</td></tr>\n",
       "<tr><td>-122.24</td><td>37.85</td><td>52.0</td><td>1467.0</td><td>190.0</td><td>496.0</td><td>177.0</td><td>7.2574</td><td>352100.0</td><td>NEAR BAY</td></tr>\n",
       "<tr><td>-122.25</td><td>37.85</td><td>52.0</td><td>1274.0</td><td>235.0</td><td>558.0</td><td>219.0</td><td>5.6431</td><td>341300.0</td><td>NEAR BAY</td></tr>\n",
       "<tr><td>-122.25</td><td>37.85</td><td>52.0</td><td>1627.0</td><td>280.0</td><td>565.0</td><td>259.0</td><td>3.8462</td><td>342200.0</td><td>NEAR BAY</td></tr>\n",
       "</table>"
      ],
      "text/plain": [
       "+---------+-------+------+--------+--------+--------+--------+--------+----------+----------+\n",
       "| -122.23 | 37.88 | 41.0 | 880.0  | 129.0  | 322.0  | 126.0  | 8.3252 | 452600.0 | NEAR BAY |\n",
       "| -122.22 | 37.86 | 21.0 | 7099.0 | 1106.0 | 2401.0 | 1138.0 | 8.3014 | 358500.0 | NEAR BAY |\n",
       "| -122.24 | 37.85 | 52.0 | 1467.0 | 190.0  | 496.0  | 177.0  | 7.2574 | 352100.0 | NEAR BAY |\n",
       "| -122.25 | 37.85 | 52.0 | 1274.0 | 235.0  | 558.0  | 219.0  | 5.6431 | 341300.0 | NEAR BAY |\n",
       "| -122.25 | 37.85 | 52.0 | 1627.0 | 280.0  | 565.0  | 259.0  | 3.8462 | 342200.0 | NEAR BAY |\n",
       "+---------+-------+------+--------+--------+--------+--------+--------+----------+----------+"
      ]
     },
     "execution_count": 4,
     "metadata": {},
     "output_type": "execute_result"
    }
   ],
   "source": [
    "// TODO: Replace <FILL IN> with appropriate code\n",
    "\n",
    "housing.take(5)"
   ]
  },
  {
   "cell_type": "markdown",
   "metadata": {},
   "source": [
    "Print the number of records with population more than 10000."
   ]
  },
  {
   "cell_type": "code",
   "execution_count": 5,
   "metadata": {},
   "outputs": [
    {
     "data": {
      "text/plain": [
       "23"
      ]
     },
     "execution_count": 5,
     "metadata": {},
     "output_type": "execute_result"
    }
   ],
   "source": [
    "// TODO: Replace <FILL IN> with appropriate code\n",
    "\n",
    "housing.filter(\"population > 10000\").count"
   ]
  },
  {
   "cell_type": "markdown",
   "metadata": {},
   "source": [
    "## 2.3. Statistical summary\n",
    "Print a summary of the table statistics for the attributes `housing_median_age`, `total_rooms`, `median_house_value`, and `population`. You can use the `describe` command."
   ]
  },
  {
   "cell_type": "code",
   "execution_count": 6,
   "metadata": {},
   "outputs": [
    {
     "name": "stdout",
     "output_type": "stream",
     "text": [
      "+-------+------------------+------------------+------------------+------------------+\n",
      "|summary|housing_median_age|       total_rooms|median_house_value|        population|\n",
      "+-------+------------------+------------------+------------------+------------------+\n",
      "|  count|             20640|             20640|             20640|             20640|\n",
      "|   mean|28.639486434108527|2635.7630813953488|206855.81690891474|1425.4767441860465|\n",
      "| stddev| 12.58555761211163|2181.6152515827944|115395.61587441359|  1132.46212176534|\n",
      "|    min|               1.0|               2.0|           14999.0|               3.0|\n",
      "|    max|              52.0|           39320.0|          500001.0|           35682.0|\n",
      "+-------+------------------+------------------+------------------+------------------+\n",
      "\n"
     ]
    }
   ],
   "source": [
    "// TODO: Replace <FILL IN> with appropriate code\n",
    "\n",
    "housing.describe(\"housing_median_age\", \"total_rooms\", \"median_house_value\",\"population\").show()"
   ]
  },
  {
   "cell_type": "markdown",
   "metadata": {},
   "source": [
    "Print the maximum age (`housing_median_age`), the minimum number of rooms (`total_rooms`), and the average of house values (`median_house_value`)."
   ]
  },
  {
   "cell_type": "code",
   "execution_count": 7,
   "metadata": {},
   "outputs": [
    {
     "name": "stdout",
     "output_type": "stream",
     "text": [
      "+-----------------------+----------------+-----------------------+\n",
      "|max(housing_median_age)|min(total_rooms)|avg(median_house_value)|\n",
      "+-----------------------+----------------+-----------------------+\n",
      "|                   52.0|             2.0|     206855.81690891474|\n",
      "+-----------------------+----------------+-----------------------+\n",
      "\n"
     ]
    }
   ],
   "source": [
    "// TODO: Replace <FILL IN> with appropriate code\n",
    "\n",
    "import org.apache.spark.sql.functions._\n",
    "\n",
    "housing.select(max(\"housing_median_age\"), min(\"total_rooms\"), mean(\"median_house_value\")).show()"
   ]
  },
  {
   "cell_type": "markdown",
   "metadata": {},
   "source": [
    "## 2.4. Breakdown the data by categorical data\n",
    "Print the number of houses in different areas (`ocean_proximity`), and sort them in descending order."
   ]
  },
  {
   "cell_type": "code",
   "execution_count": 8,
   "metadata": {},
   "outputs": [
    {
     "name": "stdout",
     "output_type": "stream",
     "text": [
      "+---------------+-------------+\n",
      "|ocean_proximity|number_houses|\n",
      "+---------------+-------------+\n",
      "|      <1H OCEAN|         9136|\n",
      "|         INLAND|         6551|\n",
      "|     NEAR OCEAN|         2658|\n",
      "|       NEAR BAY|         2290|\n",
      "|         ISLAND|            5|\n",
      "+---------------+-------------+\n",
      "\n"
     ]
    }
   ],
   "source": [
    "// TODO: Replace <FILL IN> with appropriate code\n",
    "\n",
    "housing.groupBy(\"ocean_proximity\").agg(count(\"households\").alias(\"number_houses\")).sort(desc(\"number_houses\")).show()"
   ]
  },
  {
   "cell_type": "markdown",
   "metadata": {},
   "source": [
    "Print the average value of the houses (`median_house_value`) in different areas (`ocean_proximity`), and call the new column `avg_value` when print it."
   ]
  },
  {
   "cell_type": "code",
   "execution_count": 9,
   "metadata": {},
   "outputs": [
    {
     "name": "stdout",
     "output_type": "stream",
     "text": [
      "+---------------+------------------+\n",
      "|ocean_proximity|         avg_value|\n",
      "+---------------+------------------+\n",
      "|         ISLAND|          380440.0|\n",
      "|     NEAR OCEAN|249433.97742663656|\n",
      "|       NEAR BAY|259212.31179039303|\n",
      "|      <1H OCEAN|240084.28546409807|\n",
      "|         INLAND|124805.39200122119|\n",
      "+---------------+------------------+\n",
      "\n"
     ]
    }
   ],
   "source": [
    "// TODO: Replace <FILL IN> with appropriate code\n",
    "\n",
    "housing.groupBy(\"ocean_proximity\").agg(mean(\"median_house_value\").alias(\"avg_value\")).show()"
   ]
  },
  {
   "cell_type": "markdown",
   "metadata": {},
   "source": [
    "Rewrite the above question in SQL."
   ]
  },
  {
   "cell_type": "code",
   "execution_count": 10,
   "metadata": {},
   "outputs": [
    {
     "name": "stdout",
     "output_type": "stream",
     "text": [
      "+---------------+------------------+\n",
      "|ocean_proximity|         avg_value|\n",
      "+---------------+------------------+\n",
      "|         ISLAND|          380440.0|\n",
      "|     NEAR OCEAN|249433.97742663656|\n",
      "|       NEAR BAY|259212.31179039303|\n",
      "|      <1H OCEAN|240084.28546409807|\n",
      "|         INLAND|124805.39200122119|\n",
      "+---------------+------------------+\n",
      "\n"
     ]
    }
   ],
   "source": [
    "// TODO: Replace <FILL IN> with appropriate code\n",
    "\n",
    "housing.createOrReplaceTempView(\"df\")\n",
    "spark.sql(\"SELECT ocean_proximity, AVG(median_house_value) AS avg_value from df  GROUP BY ocean_proximity\").show()"
   ]
  },
  {
   "cell_type": "markdown",
   "metadata": {},
   "source": [
    "## 2.5. Correlation among attributes\n",
    "Print the correlation among the attributes `housing_median_age`, `total_rooms`, `median_house_value`, and `population`. To do so, first you need to put these attributes into one vector. Then, compute the standard correlation coefficient (Pearson) between every pair of attributes in this new vector. To make a vector of these attributes, you can use the `VectorAssembler` Transformer."
   ]
  },
  {
   "cell_type": "code",
   "execution_count": 11,
   "metadata": {},
   "outputs": [
    {
     "name": "stdout",
     "output_type": "stream",
     "text": [
      "+---------+--------+------------------+-----------+--------------+----------+----------+-------------+------------------+---------------+--------------------+\n",
      "|longitude|latitude|housing_median_age|total_rooms|total_bedrooms|population|households|median_income|median_house_value|ocean_proximity|              vector|\n",
      "+---------+--------+------------------+-----------+--------------+----------+----------+-------------+------------------+---------------+--------------------+\n",
      "|  -122.23|   37.88|              41.0|      880.0|         129.0|     322.0|     126.0|       8.3252|          452600.0|       NEAR BAY|[41.0,880.0,45260...|\n",
      "|  -122.22|   37.86|              21.0|     7099.0|        1106.0|    2401.0|    1138.0|       8.3014|          358500.0|       NEAR BAY|[21.0,7099.0,3585...|\n",
      "|  -122.24|   37.85|              52.0|     1467.0|         190.0|     496.0|     177.0|       7.2574|          352100.0|       NEAR BAY|[52.0,1467.0,3521...|\n",
      "|  -122.25|   37.85|              52.0|     1274.0|         235.0|     558.0|     219.0|       5.6431|          341300.0|       NEAR BAY|[52.0,1274.0,3413...|\n",
      "|  -122.25|   37.85|              52.0|     1627.0|         280.0|     565.0|     259.0|       3.8462|          342200.0|       NEAR BAY|[52.0,1627.0,3422...|\n",
      "+---------+--------+------------------+-----------+--------------+----------+----------+-------------+------------------+---------------+--------------------+\n",
      "only showing top 5 rows\n",
      "\n"
     ]
    },
    {
     "data": {
      "text/plain": [
       "va = vecAssembler_12980a135123\n",
       "housingAttrs = [longitude: double, latitude: double ... 9 more fields]\n"
      ]
     },
     "metadata": {},
     "output_type": "display_data"
    },
    {
     "data": {
      "text/plain": [
       "[longitude: double, latitude: double ... 9 more fields]"
      ]
     },
     "execution_count": 11,
     "metadata": {},
     "output_type": "execute_result"
    }
   ],
   "source": [
    "// TODO: Replace <FILL IN> with appropriate code\n",
    "\n",
    "import org.apache.spark.ml.feature.VectorAssembler\n",
    "\n",
    "val va = new VectorAssembler().setInputCols(Array(\"housing_median_age\", \"total_rooms\", \"median_house_value\", \"population\")).setOutputCol(\"vector\")\n",
    "\n",
    "val housingAttrs = va.transform(housing)\n",
    "\n",
    "housingAttrs.show(5)"
   ]
  },
  {
   "cell_type": "code",
   "execution_count": 12,
   "metadata": {},
   "outputs": [
    {
     "name": "stdout",
     "output_type": "stream",
     "text": [
      "The standard correlation coefficient:\n",
      " 1.0                   -0.36126220122231784  0.10562341249318154   -0.2962442397735293   \n",
      "-0.36126220122231784  1.0                   0.13415311380654338   0.8571259728659772    \n",
      "0.10562341249318154   0.13415311380654338   1.0                   -0.02464967888891235  \n",
      "-0.2962442397735293   0.8571259728659772    -0.02464967888891235  1.0                   \n"
     ]
    },
    {
     "data": {
      "text/plain": [
       "coeff = \n"
      ]
     },
     "metadata": {},
     "output_type": "display_data"
    },
    {
     "data": {
      "text/plain": [
       "1.0                   -0.36126220122231784  0.10562341249318154   -0.2962442397735293   \n",
       "-0.36126220122231784  1.0                   0.13415311380654338   0.8571259728659772    \n",
       "0.10562341249318154   0.13415311380654338   1.0                   -0.02464967888891235  \n",
       "-0.2962442397735293   0.8571259728659772    -0.02464967888891235  1.0                   "
      ]
     },
     "execution_count": 12,
     "metadata": {},
     "output_type": "execute_result"
    }
   ],
   "source": [
    "// TODO: Replace <FILL IN> with appropriate code\n",
    "\n",
    "import org.apache.spark.ml.linalg.Matrix\n",
    "import org.apache.spark.ml.stat.Correlation\n",
    "import org.apache.spark.sql.Row\n",
    "\n",
    "val Row(coeff: Matrix) = Correlation.corr(housingAttrs, \"vector\").head\n",
    "\n",
    "println(s\"The standard correlation coefficient:\\n ${coeff}\")"
   ]
  },
  {
   "cell_type": "markdown",
   "metadata": {},
   "source": [
    "## 2.6. Combine and make new attributes\n",
    "Now, let's try out various attribute combinations. In the given dataset, the total number of rooms in a block is not very useful, if we don't know how many households there are. What we really want is the number of rooms per household. Similarly, the total number of bedrooms by itself is not very useful, and we want to compare it to the number of rooms. And the population per household seems like also an interesting attribute combination to look at. To do so, add the three new columns to the dataset as below. We will call the new dataset the `housingExtra`.\n",
    "```\n",
    "rooms_per_household = total_rooms / households\n",
    "bedrooms_per_room = total_bedrooms / total_rooms\n",
    "population_per_household = population / households\n",
    "```"
   ]
  },
  {
   "cell_type": "code",
   "execution_count": 13,
   "metadata": {},
   "outputs": [
    {
     "name": "stdout",
     "output_type": "stream",
     "text": [
      "+-------------------+-------------------+------------------------+\n",
      "|rooms_per_household|  bedrooms_per_room|population_per_household|\n",
      "+-------------------+-------------------+------------------------+\n",
      "|  6.984126984126984|0.14659090909090908|      2.5555555555555554|\n",
      "|  6.238137082601054|0.15579659106916466|       2.109841827768014|\n",
      "|  8.288135593220339|0.12951601908657123|      2.8022598870056497|\n",
      "| 5.8173515981735155|0.18445839874411302|       2.547945205479452|\n",
      "|  6.281853281853282| 0.1720958819913952|      2.1814671814671813|\n",
      "+-------------------+-------------------+------------------------+\n",
      "only showing top 5 rows\n",
      "\n"
     ]
    },
    {
     "data": {
      "text/plain": [
       "housingCol1 = [longitude: double, latitude: double ... 9 more fields]\n",
       "housingCol2 = [longitude: double, latitude: double ... 10 more fields]\n",
       "housingExtra = [longitude: double, latitude: double ... 11 more fields]\n"
      ]
     },
     "metadata": {},
     "output_type": "display_data"
    },
    {
     "data": {
      "text/plain": [
       "[longitude: double, latitude: double ... 11 more fields]"
      ]
     },
     "execution_count": 13,
     "metadata": {},
     "output_type": "execute_result"
    }
   ],
   "source": [
    "// TODO: Replace <FILL IN> with appropriate code\n",
    "\n",
    "val housingCol1 = housing.withColumn(\"rooms_per_household\", expr(\"total_rooms/households\"))\n",
    "val housingCol2 = housingCol1.withColumn(\"bedrooms_per_room\", expr(\"total_bedrooms/total_rooms\"))\n",
    "val housingExtra = housingCol2.withColumn(\"population_per_household\", expr(\"population/households\"))\n",
    "\n",
    "housingExtra.select(\"rooms_per_household\", \"bedrooms_per_room\", \"population_per_household\").show(5)"
   ]
  },
  {
   "cell_type": "markdown",
   "metadata": {},
   "source": [
    "---\n",
    "## 3. Prepare the data for Machine Learning algorithms\n",
    "Before going through the Machine Learning steps, let's first rename the label column from `median_house_value` to `label`."
   ]
  },
  {
   "cell_type": "code",
   "execution_count": 14,
   "metadata": {},
   "outputs": [
    {
     "data": {
      "text/plain": [
       "renamedHousing = [longitude: double, latitude: double ... 11 more fields]\n"
      ]
     },
     "metadata": {},
     "output_type": "display_data"
    },
    {
     "data": {
      "text/plain": [
       "[longitude: double, latitude: double ... 11 more fields]"
      ]
     },
     "execution_count": 14,
     "metadata": {},
     "output_type": "execute_result"
    }
   ],
   "source": [
    "// TODO: Replace <FILL IN> with appropriate code\n",
    "\n",
    "val renamedHousing = housingExtra.withColumnRenamed(\"median_house_value\", \"label\")"
   ]
  },
  {
   "cell_type": "markdown",
   "metadata": {},
   "source": [
    "Now, we want to separate the numerical attributes from the categorical attribute (`ocean_proximity`) and keep their column names in two different lists. Moreover, sice we don't want to apply the same transformations to the predictors (features) and the label, we should remove the label attribute from the list of predictors. "
   ]
  },
  {
   "cell_type": "code",
   "execution_count": 15,
   "metadata": {},
   "outputs": [
    {
     "data": {
      "text/plain": [
       "colLabel = label\n",
       "colCat = ocean_proximity\n",
       "colNum = Array(longitude, latitude, housing_median_age, total_rooms, total_bedrooms, population, households, median_income, rooms_per_household, bedrooms_per_room, population_per_household)\n"
      ]
     },
     "metadata": {},
     "output_type": "display_data"
    },
    {
     "data": {
      "text/plain": [
       "[longitude, latitude, housing_median_age, total_rooms, total_bedrooms, population, households, median_income, rooms_per_household, bedrooms_per_room, population_per_household]"
      ]
     },
     "execution_count": 15,
     "metadata": {},
     "output_type": "execute_result"
    }
   ],
   "source": [
    "// label columns\n",
    "val colLabel = \"label\"\n",
    "\n",
    "// categorical columns\n",
    "val colCat = \"ocean_proximity\"\n",
    "\n",
    "// numerical columns\n",
    "val colNum = renamedHousing.columns.filter(_ != colLabel).filter(_ != colCat)"
   ]
  },
  {
   "cell_type": "markdown",
   "metadata": {},
   "source": [
    "## 3.1. Prepare continuse attributes\n",
    "### Data cleaning\n",
    "Most Machine Learning algorithms cannot work with missing features, so we should take care of them. As a first step, let's find the columns with missing values in the numerical attributes. To do so, we can print the number of missing values of each continues attributes, listed in `colNum`."
   ]
  },
  {
   "cell_type": "code",
   "execution_count": 16,
   "metadata": {},
   "outputs": [
    {
     "name": "stdout",
     "output_type": "stream",
     "text": [
      "longitude:0\n",
      "latitude:0\n",
      "housing_median_age:0\n",
      "total_rooms:0\n",
      "total_bedrooms:207\n",
      "population:0\n",
      "households:0\n",
      "median_income:0\n",
      "rooms_per_household:0\n",
      "bedrooms_per_room:207\n",
      "population_per_household:0\n"
     ]
    }
   ],
   "source": [
    "// TODO: Replace <FILL IN> with appropriate code\n",
    "\n",
    "for (c <- colNum) {\n",
    "    println(c + \":\" + renamedHousing.filter(renamedHousing(c).isNull || renamedHousing(c) === \"\").count)\n",
    "}"
   ]
  },
  {
   "cell_type": "markdown",
   "metadata": {},
   "source": [
    "As we observerd above, the `total_bedrooms` and `bedrooms_per_room` attributes have some missing values. One way to take care of missing values is to use the `Imputer` Transformer, which completes missing values in a dataset, either using the mean or the median of the columns in which the missing values are located. To use it, you need to create an `Imputer` instance, specifying that you want to replace each attribute's missing values with the \"median\" of that attribute."
   ]
  },
  {
   "cell_type": "code",
   "execution_count": 17,
   "metadata": {},
   "outputs": [
    {
     "name": "stdout",
     "output_type": "stream",
     "text": [
      "+--------------+-------------------+\n",
      "|total_bedrooms|  bedrooms_per_room|\n",
      "+--------------+-------------------+\n",
      "|         129.0|0.14659090909090908|\n",
      "|        1106.0|0.15579659106916466|\n",
      "|         190.0|0.12951601908657123|\n",
      "|         235.0|0.18445839874411302|\n",
      "|         280.0| 0.1720958819913952|\n",
      "+--------------+-------------------+\n",
      "only showing top 5 rows\n",
      "\n"
     ]
    },
    {
     "data": {
      "text/plain": [
       "imputer = imputer_9cbdb8e8a832\n",
       "imputedHousing = [longitude: double, latitude: double ... 11 more fields]\n"
      ]
     },
     "metadata": {},
     "output_type": "display_data"
    },
    {
     "data": {
      "text/plain": [
       "[longitude: double, latitude: double ... 11 more fields]"
      ]
     },
     "execution_count": 17,
     "metadata": {},
     "output_type": "execute_result"
    }
   ],
   "source": [
    "// TODO: Replace <FILL IN> with appropriate code\n",
    "\n",
    "import org.apache.spark.ml.feature.Imputer\n",
    "\n",
    "val imputer = new Imputer().setStrategy(\"median\").setInputCols(Array(\"total_bedrooms\", \"bedrooms_per_room\"))\n",
    "            .setOutputCols(Array(\"total_bedrooms\", \"bedrooms_per_room\"))                       \n",
    "val imputedHousing = imputer.fit(renamedHousing).transform(renamedHousing)\n",
    "\n",
    "imputedHousing.select(\"total_bedrooms\", \"bedrooms_per_room\").show(5)"
   ]
  },
  {
   "cell_type": "markdown",
   "metadata": {},
   "source": [
    "### Scaling\n",
    "One of the most important transformations you need to apply to your data is feature scaling. With few exceptions, Machine Learning algorithms don't perform well when the input numerical attributes have very different scales. This is the case for the housing data: the total number of rooms ranges from about 6 to 39,320, while the median incomes only range from 0 to 15. Note that scaling the label attribues is generally not required.\n",
    "\n",
    "One way to get all attributes to have the same scale is to use standardization. In standardization, for each value, first it subtracts the mean value (so standardized values always have a zero mean), and then it divides by the variance so that the resulting distribution has unit variance. To do this, we can use the `StandardScaler` Estimator. To use `StandardScaler`, again we need to convert all the numerical attributes into a big vectore of features using `VectorAssembler`, and then call `StandardScaler` on that vactor."
   ]
  },
  {
   "cell_type": "code",
   "execution_count": 18,
   "metadata": {},
   "outputs": [
    {
     "name": "stdout",
     "output_type": "stream",
     "text": [
      "+---------+--------+------------------+-----------+--------------+----------+----------+-------------+--------+---------------+-------------------+-------------------+------------------------+--------------------+--------------------+\n",
      "|longitude|latitude|housing_median_age|total_rooms|total_bedrooms|population|households|median_income|   label|ocean_proximity|rooms_per_household|  bedrooms_per_room|population_per_household|         va_features|     scaled_features|\n",
      "+---------+--------+------------------+-----------+--------------+----------+----------+-------------+--------+---------------+-------------------+-------------------+------------------------+--------------------+--------------------+\n",
      "|  -122.23|   37.88|              41.0|      880.0|         129.0|     322.0|     126.0|       8.3252|452600.0|       NEAR BAY|  6.984126984126984|0.14659090909090908|      2.5555555555555554|[-122.23,37.88,41...|[-61.007269596069...|\n",
      "|  -122.22|   37.86|              21.0|     7099.0|        1106.0|    2401.0|    1138.0|       8.3014|358500.0|       NEAR BAY|  6.238137082601054|0.15579659106916466|       2.109841827768014|[-122.22,37.86,21...|[-61.002278409814...|\n",
      "|  -122.24|   37.85|              52.0|     1467.0|         190.0|     496.0|     177.0|       7.2574|352100.0|       NEAR BAY|  8.288135593220339|0.12951601908657123|      2.8022598870056497|[-122.24,37.85,52...|[-61.012260782324...|\n",
      "|  -122.25|   37.85|              52.0|     1274.0|         235.0|     558.0|     219.0|       5.6431|341300.0|       NEAR BAY| 5.8173515981735155|0.18445839874411302|       2.547945205479452|[-122.25,37.85,52...|[-61.017251968579...|\n",
      "|  -122.25|   37.85|              52.0|     1627.0|         280.0|     565.0|     259.0|       3.8462|342200.0|       NEAR BAY|  6.281853281853282| 0.1720958819913952|      2.1814671814671813|[-122.25,37.85,52...|[-61.017251968579...|\n",
      "+---------+--------+------------------+-----------+--------------+----------+----------+-------------+--------+---------------+-------------------+-------------------+------------------------+--------------------+--------------------+\n",
      "only showing top 5 rows\n",
      "\n"
     ]
    },
    {
     "data": {
      "text/plain": [
       "va = vecAssembler_748cd36939db\n",
       "featuredHousing = [longitude: double, latitude: double ... 12 more fields]\n",
       "scaler = stdScal_2e9f29c1ace1\n",
       "scaledHousing = [longitude: double, latitude: double ... 13 more fields]\n"
      ]
     },
     "metadata": {},
     "output_type": "display_data"
    },
    {
     "data": {
      "text/plain": [
       "[longitude: double, latitude: double ... 13 more fields]"
      ]
     },
     "execution_count": 18,
     "metadata": {},
     "output_type": "execute_result"
    }
   ],
   "source": [
    "// TODO: Replace <FILL IN> with appropriate code\n",
    "\n",
    "import org.apache.spark.ml.feature.{VectorAssembler, StandardScaler}\n",
    "\n",
    "val va = new VectorAssembler().setInputCols(colNum).setOutputCol(\"va_features\")\n",
    "val featuredHousing = va.transform(imputedHousing)\n",
    "\n",
    "val scaler = new StandardScaler().setInputCol(\"va_features\").setOutputCol(\"scaled_features\")\n",
    "val scaledHousing = scaler.fit(featuredHousing).transform(featuredHousing)\n",
    "\n",
    "scaledHousing.show(5)"
   ]
  },
  {
   "cell_type": "markdown",
   "metadata": {},
   "source": [
    "## 3.2. Prepare categorical attributes\n",
    "After imputing and scaling the continuse attributes, we should take care of the categorical attributes. Let's first print the number of distict values of the categirical attribute `ocean_proximity`."
   ]
  },
  {
   "cell_type": "code",
   "execution_count": 19,
   "metadata": {},
   "outputs": [
    {
     "name": "stdout",
     "output_type": "stream",
     "text": [
      "+---------------+\n",
      "|ocean_proximity|\n",
      "+---------------+\n",
      "|         ISLAND|\n",
      "|     NEAR OCEAN|\n",
      "|       NEAR BAY|\n",
      "|      <1H OCEAN|\n",
      "|         INLAND|\n",
      "+---------------+\n",
      "\n"
     ]
    }
   ],
   "source": [
    "// TODO: Replace <FILL IN> with appropriate code\n",
    "\n",
    "renamedHousing.select(\"ocean_proximity\").distinct().show()"
   ]
  },
  {
   "cell_type": "markdown",
   "metadata": {},
   "source": [
    "### String indexer\n",
    "Most Machine Learning algorithms prefer to work with numbers. So let's convert the categorical attribute `ocean_proximity` to numbers. To do so, we can use the `StringIndexer` that encodes a string column of labels to a column of label indices. The indices are in [0, numLabels), ordered by label frequencies, so the most frequent label gets index 0."
   ]
  },
  {
   "cell_type": "code",
   "execution_count": 20,
   "metadata": {},
   "outputs": [
    {
     "data": {
      "text/plain": [
       "indexer = strIdx_8ee8b3968729\n",
       "idxHousing = [longitude: double, latitude: double ... 12 more fields]\n"
      ]
     },
     "metadata": {},
     "output_type": "display_data"
    },
    {
     "data": {
      "text/plain": [
       "[longitude: double, latitude: double ... 12 more fields]"
      ]
     },
     "execution_count": 20,
     "metadata": {},
     "output_type": "execute_result"
    }
   ],
   "source": [
    "// TODO: Replace <FILL IN> with appropriate code\n",
    "\n",
    "import org.apache.spark.ml.feature.StringIndexer\n",
    "\n",
    "val indexer = new StringIndexer().setInputCol(\"ocean_proximity\").setOutputCol(\"ocean_proximity_index\")\n",
    "val idxHousing = indexer.fit(renamedHousing).transform(renamedHousing)"
   ]
  },
  {
   "cell_type": "markdown",
   "metadata": {},
   "source": [
    "Now we can use this numerical data in any Machine Learning algorithm. You can look at the mapping that this encoder has learned using the `labels` method: \"<1H OCEAN\" is mapped to 0, \"INLAND\" is mapped to 1, etc."
   ]
  },
  {
   "cell_type": "code",
   "execution_count": 21,
   "metadata": {},
   "outputs": [
    {
     "data": {
      "text/plain": [
       "[<1H OCEAN, INLAND, NEAR OCEAN, NEAR BAY, ISLAND]"
      ]
     },
     "execution_count": 21,
     "metadata": {},
     "output_type": "execute_result"
    }
   ],
   "source": [
    "indexer.fit(renamedHousing).labels"
   ]
  },
  {
   "cell_type": "markdown",
   "metadata": {},
   "source": [
    "### One-hot encoding\n",
    "Now, convert the label indices built in the last step into one-hot vectors. To do this, you can take advantage of the `OneHotEncoderEstimator` Estimator."
   ]
  },
  {
   "cell_type": "code",
   "execution_count": 22,
   "metadata": {},
   "outputs": [
    {
     "name": "stdout",
     "output_type": "stream",
     "text": [
      "+---------+--------+------------------+-----------+--------------+----------+----------+-------------+--------+---------------+-------------------+-------------------+------------------------+---------------------+------------------------+\n",
      "|longitude|latitude|housing_median_age|total_rooms|total_bedrooms|population|households|median_income|   label|ocean_proximity|rooms_per_household|  bedrooms_per_room|population_per_household|ocean_proximity_index|ocean_proximity_index_oh|\n",
      "+---------+--------+------------------+-----------+--------------+----------+----------+-------------+--------+---------------+-------------------+-------------------+------------------------+---------------------+------------------------+\n",
      "|  -122.23|   37.88|              41.0|      880.0|         129.0|     322.0|     126.0|       8.3252|452600.0|       NEAR BAY|  6.984126984126984|0.14659090909090908|      2.5555555555555554|                  3.0|           (4,[3],[1.0])|\n",
      "|  -122.22|   37.86|              21.0|     7099.0|        1106.0|    2401.0|    1138.0|       8.3014|358500.0|       NEAR BAY|  6.238137082601054|0.15579659106916466|       2.109841827768014|                  3.0|           (4,[3],[1.0])|\n",
      "|  -122.24|   37.85|              52.0|     1467.0|         190.0|     496.0|     177.0|       7.2574|352100.0|       NEAR BAY|  8.288135593220339|0.12951601908657123|      2.8022598870056497|                  3.0|           (4,[3],[1.0])|\n",
      "|  -122.25|   37.85|              52.0|     1274.0|         235.0|     558.0|     219.0|       5.6431|341300.0|       NEAR BAY| 5.8173515981735155|0.18445839874411302|       2.547945205479452|                  3.0|           (4,[3],[1.0])|\n",
      "|  -122.25|   37.85|              52.0|     1627.0|         280.0|     565.0|     259.0|       3.8462|342200.0|       NEAR BAY|  6.281853281853282| 0.1720958819913952|      2.1814671814671813|                  3.0|           (4,[3],[1.0])|\n",
      "+---------+--------+------------------+-----------+--------------+----------+----------+-------------+--------+---------------+-------------------+-------------------+------------------------+---------------------+------------------------+\n",
      "only showing top 5 rows\n",
      "\n"
     ]
    },
    {
     "data": {
      "text/plain": [
       "encoder = oneHotEncoder_4528cf85e23b\n",
       "ohHousing = [longitude: double, latitude: double ... 13 more fields]\n"
      ]
     },
     "metadata": {},
     "output_type": "display_data"
    },
    {
     "data": {
      "text/plain": [
       "[longitude: double, latitude: double ... 13 more fields]"
      ]
     },
     "execution_count": 22,
     "metadata": {},
     "output_type": "execute_result"
    }
   ],
   "source": [
    "// TODO: Replace <FILL IN> with appropriate code\n",
    "\n",
    "import org.apache.spark.ml.feature.OneHotEncoderEstimator\n",
    "\n",
    "val encoder = new OneHotEncoderEstimator().setInputCols(Array(\"ocean_proximity_index\")).setOutputCols(Array(\"ocean_proximity_index_oh\"))\n",
    "val ohHousing = encoder.fit(idxHousing).transform(idxHousing)\n",
    "\n",
    "ohHousing.show(5)"
   ]
  },
  {
   "cell_type": "markdown",
   "metadata": {},
   "source": [
    "---\n",
    "# 4. Pipeline\n",
    "As you can see, there are many data transformation steps that need to be executed in the right order. For example, you called the `Imputer`, `VectorAssembler`, and `StandardScaler` from left to right. However, we can use the `Pipeline` class to define a sequence of Transformers/Estimators, and run them in order. A `Pipeline` is an `Estimator`, thus, after a Pipeline's `fit()` method runs, it produces a `PipelineModel`, which is a `Transformer`.\n",
    "\n",
    "Now, let's create a pipeline called `numPipeline` to call the numerical transformers you built above (`imputer`, `va`, and `scaler`) in the right order from left to right, as well as a pipeline called `catPipeline` to call the categorical transformers (`indexer` and `encoder`). Then, put these two pipelines `numPipeline` and `catPipeline` into one pipeline."
   ]
  },
  {
   "cell_type": "code",
   "execution_count": 24,
   "metadata": {},
   "outputs": [
    {
     "name": "stdout",
     "output_type": "stream",
     "text": [
      "+---------+--------+------------------+-----------+--------------+----------+----------+-------------+--------+---------------+-------------------+-------------------+------------------------+--------------------+--------------------+---------------------+------------------------+\n",
      "|longitude|latitude|housing_median_age|total_rooms|total_bedrooms|population|households|median_income|   label|ocean_proximity|rooms_per_household|  bedrooms_per_room|population_per_household|         va_features|     scaled_features|ocean_proximity_index|ocean_proximity_index_oh|\n",
      "+---------+--------+------------------+-----------+--------------+----------+----------+-------------+--------+---------------+-------------------+-------------------+------------------------+--------------------+--------------------+---------------------+------------------------+\n",
      "|  -122.23|   37.88|              41.0|      880.0|         129.0|     322.0|     126.0|       8.3252|452600.0|       NEAR BAY|  6.984126984126984|0.14659090909090908|      2.5555555555555554|[-122.23,37.88,41...|[-61.007269596069...|                  3.0|           (4,[3],[1.0])|\n",
      "|  -122.22|   37.86|              21.0|     7099.0|        1106.0|    2401.0|    1138.0|       8.3014|358500.0|       NEAR BAY|  6.238137082601054|0.15579659106916466|       2.109841827768014|[-122.22,37.86,21...|[-61.002278409814...|                  3.0|           (4,[3],[1.0])|\n",
      "|  -122.24|   37.85|              52.0|     1467.0|         190.0|     496.0|     177.0|       7.2574|352100.0|       NEAR BAY|  8.288135593220339|0.12951601908657123|      2.8022598870056497|[-122.24,37.85,52...|[-61.012260782324...|                  3.0|           (4,[3],[1.0])|\n",
      "|  -122.25|   37.85|              52.0|     1274.0|         235.0|     558.0|     219.0|       5.6431|341300.0|       NEAR BAY| 5.8173515981735155|0.18445839874411302|       2.547945205479452|[-122.25,37.85,52...|[-61.017251968579...|                  3.0|           (4,[3],[1.0])|\n",
      "|  -122.25|   37.85|              52.0|     1627.0|         280.0|     565.0|     259.0|       3.8462|342200.0|       NEAR BAY|  6.281853281853282| 0.1720958819913952|      2.1814671814671813|[-122.25,37.85,52...|[-61.017251968579...|                  3.0|           (4,[3],[1.0])|\n",
      "+---------+--------+------------------+-----------+--------------+----------+----------+-------------+--------+---------------+-------------------+-------------------+------------------------+--------------------+--------------------+---------------------+------------------------+\n",
      "only showing top 5 rows\n",
      "\n"
     ]
    },
    {
     "data": {
      "text/plain": [
       "numPipeline = pipeline_c5fcb9122339\n",
       "catPipeline = pipeline_2d093de41add\n",
       "pipeline = pipeline_7534d84ea635\n",
       "newHousing = [longitude: double, latitude: double ... 15 more fields]\n"
      ]
     },
     "metadata": {},
     "output_type": "display_data"
    },
    {
     "data": {
      "text/plain": [
       "[longitude: double, latitude: double ... 15 more fields]"
      ]
     },
     "execution_count": 24,
     "metadata": {},
     "output_type": "execute_result"
    }
   ],
   "source": [
    "// TODO: Replace <FILL IN> with appropriate code\n",
    "\n",
    "import org.apache.spark.ml.{Pipeline, PipelineModel, PipelineStage}\n",
    "\n",
    "val numPipeline = new Pipeline().setStages(Array(imputer, va, scaler))\n",
    "val catPipeline = new Pipeline().setStages(Array(indexer, encoder))\n",
    "val pipeline = new Pipeline().setStages(Array(numPipeline, catPipeline))\n",
    "val newHousing = pipeline.fit(renamedHousing).transform(renamedHousing)\n",
    "\n",
    "newHousing.show(5)"
   ]
  },
  {
   "cell_type": "markdown",
   "metadata": {},
   "source": [
    "Now, use `VectorAssembler` to put all attributes of the final dataset `newHousing` into a big vector, and call the new column `features`."
   ]
  },
  {
   "cell_type": "code",
   "execution_count": 25,
   "metadata": {},
   "outputs": [
    {
     "name": "stdout",
     "output_type": "stream",
     "text": [
      "+--------------------+--------+\n",
      "|            features|   label|\n",
      "+--------------------+--------+\n",
      "|[-61.007269596069...|452600.0|\n",
      "|[-61.002278409814...|358500.0|\n",
      "|[-61.012260782324...|352100.0|\n",
      "|[-61.017251968579...|341300.0|\n",
      "|[-61.017251968579...|342200.0|\n",
      "+--------------------+--------+\n",
      "only showing top 5 rows\n",
      "\n"
     ]
    },
    {
     "data": {
      "text/plain": [
       "va2 = vecAssembler_d0d86a2e30d8\n",
       "dataset = [features: vector, label: double]\n"
      ]
     },
     "metadata": {},
     "output_type": "display_data"
    },
    {
     "data": {
      "text/plain": [
       "[features: vector, label: double]"
      ]
     },
     "execution_count": 25,
     "metadata": {},
     "output_type": "execute_result"
    }
   ],
   "source": [
    "// TODO: Replace <FILL IN> with appropriate code\n",
    "\n",
    "val va2 = new VectorAssembler().setInputCols(Array(\"scaled_features\", \"ocean_proximity_index_oh\")).setOutputCol(\"features\")\n",
    "val dataset = va2.transform(newHousing).select(\"features\", \"label\")\n",
    "\n",
    "dataset.show(5)"
   ]
  },
  {
   "cell_type": "markdown",
   "metadata": {},
   "source": [
    "---\n",
    "# 5. Make a model\n",
    "Here we going to make four different regression models:\n",
    "* Linear regression model\n",
    "* Decission tree regression\n",
    "* Random forest regression\n",
    "* Gradient-booster forest regression\n",
    "\n",
    "But, before giving the data to train a Machine Learning model, let's first split the data into training dataset (`trainSet`) with 80% of the whole data, and test dataset (`testSet`) with 20% of it."
   ]
  },
  {
   "cell_type": "code",
   "execution_count": 26,
   "metadata": {},
   "outputs": [
    {
     "data": {
      "text/plain": [
       "trainSet = [features: vector, label: double]\n",
       "testSet = [features: vector, label: double]\n"
      ]
     },
     "metadata": {},
     "output_type": "display_data"
    },
    {
     "data": {
      "text/plain": [
       "[features: vector, label: double]"
      ]
     },
     "execution_count": 26,
     "metadata": {},
     "output_type": "execute_result"
    }
   ],
   "source": [
    "// TODO: Replace <FILL IN> with appropriate code\n",
    "\n",
    "val Array(trainSet, testSet) = dataset.randomSplit(Array(0.8, 0.2))"
   ]
  },
  {
   "cell_type": "markdown",
   "metadata": {},
   "source": [
    "## 5.1. Linear regression model\n",
    "Now, train a Linear Regression model using the `LinearRegression` class. Then, print the coefficients and intercept of the model, as well as the summary of the model over the training set by calling the `summary` method."
   ]
  },
  {
   "cell_type": "code",
   "execution_count": 29,
   "metadata": {},
   "outputs": [
    {
     "name": "stdout",
     "output_type": "stream",
     "text": [
      "Coefficients: [-57216.669334959835,-57359.92570207311,13819.36109455339,6403.508742349794,1132.0406006660837,-45662.61684955022,43460.116838407805,77671.36049529588,8661.685553491021,16750.928806801738,3052.296564989787,-175977.0281112592,-210352.6601899546,-172102.32097139757,-178713.39500477936], Intercept: -2343946.7045425577\n",
      "RMSE: 68023.94520064876\n"
     ]
    },
    {
     "data": {
      "text/plain": [
       "lr = linReg_8c5435f87ede\n",
       "lrModel = linReg_8c5435f87ede\n",
       "trainingSummary = org.apache.spark.ml.regression.LinearRegressionTrainingSummary@56048366\n"
      ]
     },
     "metadata": {},
     "output_type": "display_data"
    },
    {
     "data": {
      "text/plain": [
       "org.apache.spark.ml.regression.LinearRegressionTrainingSummary@56048366"
      ]
     },
     "execution_count": 29,
     "metadata": {},
     "output_type": "execute_result"
    }
   ],
   "source": [
    "// TODO: Replace <FILL IN> with appropriate code\n",
    "\n",
    "import org.apache.spark.ml.regression.LinearRegression\n",
    "\n",
    "// train the model\n",
    "val lr = new LinearRegression()\n",
    "val lrModel = lr.fit(trainSet)\n",
    "val trainingSummary = lrModel.summary\n",
    "\n",
    "println(s\"Coefficients: ${lrModel.coefficients}, Intercept: ${lrModel.intercept}\")\n",
    "println(s\"RMSE: ${trainingSummary.rootMeanSquaredError}\")"
   ]
  },
  {
   "cell_type": "markdown",
   "metadata": {},
   "source": [
    "Now, use `RegressionEvaluator` to measure the root-mean-square-erroe (RMSE) of the model on the test dataset."
   ]
  },
  {
   "cell_type": "code",
   "execution_count": 30,
   "metadata": {},
   "outputs": [
    {
     "name": "stdout",
     "output_type": "stream",
     "text": [
      "+------------------+--------+--------------------+\n",
      "|        prediction|   label|            features|\n",
      "+------------------+--------+--------------------+\n",
      "|186694.39850564906| 76100.0|[-62.015489219599...|\n",
      "|141741.76223049313| 81300.0|[-61.975559729558...|\n",
      "|156118.60167505173| 70500.0|[-61.975559729558...|\n",
      "|160431.65053047612|109400.0|[-61.975559729558...|\n",
      "|173066.42302068323| 85100.0|[-61.970568543303...|\n",
      "+------------------+--------+--------------------+\n",
      "only showing top 5 rows\n",
      "\n",
      "Root Mean Squared Error (RMSE) on test data = 67645.16161506913\n"
     ]
    },
    {
     "data": {
      "text/plain": [
       "predictions = [features: vector, label: double ... 1 more field]\n",
       "evaluator = regEval_f35485d253b3\n",
       "rmse = 67645.16161506913\n"
      ]
     },
     "metadata": {},
     "output_type": "display_data"
    },
    {
     "data": {
      "text/plain": [
       "67645.16161506913"
      ]
     },
     "execution_count": 30,
     "metadata": {},
     "output_type": "execute_result"
    }
   ],
   "source": [
    "// TODO: Replace <FILL IN> with appropriate code\n",
    "\n",
    "import org.apache.spark.ml.evaluation.RegressionEvaluator\n",
    "\n",
    "// make predictions on the test data\n",
    "val predictions = lrModel.transform(testSet)\n",
    "predictions.select(\"prediction\", \"label\", \"features\").show(5)\n",
    "\n",
    "// select (prediction, true label) and compute test error.\n",
    "val evaluator = new RegressionEvaluator().setLabelCol(\"label\").setPredictionCol(\"prediction\").setMetricName(\"rmse\")\n",
    "val rmse = evaluator.evaluate(predictions)\n",
    "println(s\"Root Mean Squared Error (RMSE) on test data = $rmse\")"
   ]
  },
  {
   "cell_type": "markdown",
   "metadata": {},
   "source": [
    "## 5.2. Decision tree regression\n",
    "Repeat what you have done on Regression Model to build a Decision Tree model. Use the `DecisionTreeRegressor` to make a model and then measure its RMSE on the test dataset."
   ]
  },
  {
   "cell_type": "code",
   "execution_count": 31,
   "metadata": {},
   "outputs": [
    {
     "name": "stdout",
     "output_type": "stream",
     "text": [
      "+------------------+--------+--------------------+\n",
      "|        prediction|   label|            features|\n",
      "+------------------+--------+--------------------+\n",
      "|134326.66666666666| 76100.0|[-62.015489219599...|\n",
      "| 168506.6640401146| 81300.0|[-61.975559729558...|\n",
      "|134326.66666666666| 70500.0|[-61.975559729558...|\n",
      "|223652.37994722955|109400.0|[-61.975559729558...|\n",
      "|134326.66666666666| 85100.0|[-61.970568543303...|\n",
      "+------------------+--------+--------------------+\n",
      "only showing top 5 rows\n",
      "\n",
      "Root Mean Squared Error (RMSE) on test data = 65991.88321251268\n"
     ]
    },
    {
     "data": {
      "text/plain": [
       "dt = dtr_e9cda11413fc\n",
       "dtModel = DecisionTreeRegressionModel (uid=dtr_e9cda11413fc) of depth 5 with 63 nodes\n",
       "predictions = [features: vector, label: double ... 1 more field]\n",
       "evaluator = regEval_1cc197db2c98\n",
       "rmse = 65991.88321251268\n"
      ]
     },
     "metadata": {},
     "output_type": "display_data"
    },
    {
     "data": {
      "text/plain": [
       "65991.88321251268"
      ]
     },
     "execution_count": 31,
     "metadata": {},
     "output_type": "execute_result"
    }
   ],
   "source": [
    "// TODO: Replace <FILL IN> with appropriate code\n",
    "\n",
    "import org.apache.spark.ml.regression.DecisionTreeRegressor\n",
    "import org.apache.spark.ml.evaluation.RegressionEvaluator\n",
    "\n",
    "val dt = new DecisionTreeRegressor().setLabelCol(\"label\").setFeaturesCol(\"features\")\n",
    "\n",
    "// train the model\n",
    "val dtModel = dt.fit(trainSet)\n",
    "\n",
    "// make predictions on the test data\n",
    "val predictions = dtModel.transform(testSet)\n",
    "predictions.select(\"prediction\", \"label\", \"features\").show(5)\n",
    "\n",
    "// select (prediction, true label) and compute test error\n",
    "val evaluator = new RegressionEvaluator().setLabelCol(\"label\").setPredictionCol(\"prediction\").setMetricName(\"rmse\")\n",
    "val rmse = evaluator.evaluate(predictions)\n",
    "println(s\"Root Mean Squared Error (RMSE) on test data = $rmse\")"
   ]
  },
  {
   "cell_type": "markdown",
   "metadata": {},
   "source": [
    "## 5.3. Random forest regression\n",
    "Let's try the test error on a Random Forest Model. Youcan use the `RandomForestRegressor` to make a Random Forest model."
   ]
  },
  {
   "cell_type": "code",
   "execution_count": 32,
   "metadata": {},
   "outputs": [
    {
     "name": "stdout",
     "output_type": "stream",
     "text": [
      "+------------------+--------+--------------------+\n",
      "|        prediction|   label|            features|\n",
      "+------------------+--------+--------------------+\n",
      "|161900.56562651228| 76100.0|[-62.015489219599...|\n",
      "|148921.18459248054| 81300.0|[-61.975559729558...|\n",
      "|145847.31991842805| 70500.0|[-61.975559729558...|\n",
      "|204927.29585416132|109400.0|[-61.975559729558...|\n",
      "|155199.86323487916| 85100.0|[-61.970568543303...|\n",
      "+------------------+--------+--------------------+\n",
      "only showing top 5 rows\n",
      "\n",
      "Root Mean Squared Error (RMSE) on test data = 64463.27343197977\n"
     ]
    },
    {
     "data": {
      "text/plain": [
       "rf = rfr_6e9fa5bcc5a7\n",
       "rfModel = RandomForestRegressionModel (uid=rfr_6e9fa5bcc5a7) with 20 trees\n",
       "predictions = [features: vector, label: double ... 1 more field]\n",
       "evaluator = regEval_61dfb708a0ce\n",
       "rmse = 64463.27343197977\n"
      ]
     },
     "metadata": {},
     "output_type": "display_data"
    },
    {
     "data": {
      "text/plain": [
       "64463.27343197977"
      ]
     },
     "execution_count": 32,
     "metadata": {},
     "output_type": "execute_result"
    }
   ],
   "source": [
    "// TODO: Replace <FILL IN> with appropriate code\n",
    "\n",
    "import org.apache.spark.ml.regression.RandomForestRegressor\n",
    "import org.apache.spark.ml.evaluation.RegressionEvaluator\n",
    "\n",
    "val rf = new RandomForestRegressor().setLabelCol(\"label\").setFeaturesCol(\"features\")\n",
    "\n",
    "// train the model\n",
    "val rfModel = rf.fit(trainSet)\n",
    "\n",
    "// make predictions on the test data\n",
    "val predictions = rfModel.transform(testSet)\n",
    "predictions.select(\"prediction\", \"label\", \"features\").show(5)\n",
    "\n",
    "// select (prediction, true label) and compute test error\n",
    "val evaluator = new RegressionEvaluator().setLabelCol(\"label\").setPredictionCol(\"prediction\").setMetricName(\"rmse\")\n",
    "val rmse = evaluator.evaluate(predictions)\n",
    "println(s\"Root Mean Squared Error (RMSE) on test data = $rmse\")"
   ]
  },
  {
   "cell_type": "markdown",
   "metadata": {},
   "source": [
    "## 5.4. Gradient-boosted tree regression\n",
    "Fianlly, we want to build a Gradient-boosted Tree Regression model and test the RMSE of the test data. Use the `GBTRegressor` to build the model."
   ]
  },
  {
   "cell_type": "code",
   "execution_count": 33,
   "metadata": {},
   "outputs": [
    {
     "name": "stdout",
     "output_type": "stream",
     "text": [
      "+------------------+--------+--------------------+\n",
      "|        prediction|   label|            features|\n",
      "+------------------+--------+--------------------+\n",
      "|  81144.9628140078| 76100.0|[-62.015489219599...|\n",
      "|  86220.7912083109| 81300.0|[-61.975559729558...|\n",
      "|   82958.535830645| 70500.0|[-61.975559729558...|\n",
      "|137137.22360731603|109400.0|[-61.975559729558...|\n",
      "|   82460.883253681| 85100.0|[-61.970568543303...|\n",
      "+------------------+--------+--------------------+\n",
      "only showing top 5 rows\n",
      "\n",
      "Root Mean Squared Error (RMSE) on test data = 54283.50964173844\n"
     ]
    },
    {
     "data": {
      "text/plain": [
       "gb = gbtr_c3d8780c8ffe\n",
       "gbModel = GBTRegressionModel (uid=gbtr_c3d8780c8ffe) with 20 trees\n",
       "predictions = [features: vector, label: double ... 1 more field]\n",
       "evaluator = regEval_84562a1d9a97\n",
       "rmse = 54283.50964173844\n"
      ]
     },
     "metadata": {},
     "output_type": "display_data"
    },
    {
     "data": {
      "text/plain": [
       "54283.50964173844"
      ]
     },
     "execution_count": 33,
     "metadata": {},
     "output_type": "execute_result"
    }
   ],
   "source": [
    "// TODO: Replace <FILL IN> with appropriate code\n",
    "\n",
    "import org.apache.spark.ml.regression.GBTRegressor\n",
    "import org.apache.spark.ml.evaluation.RegressionEvaluator\n",
    "\n",
    "val gb = new GBTRegressor().setLabelCol(\"label\").setFeaturesCol(\"features\")\n",
    "\n",
    "// train the model\n",
    "val gbModel = gb.fit(trainSet)\n",
    "\n",
    "// make predictions on the test data\n",
    "val predictions = gbModel.transform(testSet)\n",
    "predictions.select(\"prediction\", \"label\", \"features\").show(5)\n",
    "\n",
    "// select (prediction, true label) and compute test error\n",
    "val evaluator = new RegressionEvaluator().setLabelCol(\"label\").setPredictionCol(\"prediction\").setMetricName(\"rmse\")\n",
    "val rmse = evaluator.evaluate(predictions)\n",
    "println(s\"Root Mean Squared Error (RMSE) on test data = $rmse\")"
   ]
  },
  {
   "cell_type": "markdown",
   "metadata": {},
   "source": [
    "---\n",
    "# 6. Hyperparameter tuning\n",
    "An important task in Machie Learning is model selection, or using data to find the best model or parameters for a given task. This is also called tuning. Tuning may be done for individual Estimators such as LinearRegression, or for entire Pipelines which include multiple algorithms, featurization, and other steps. Users can tune an entire Pipeline at once, rather than tuning each element in the Pipeline separately. MLlib supports model selection tools, such as `CrossValidator`. These tools require the following items:\n",
    "* Estimator: algorithm or Pipeline to tune (`setEstimator`)\n",
    "* Set of ParamMaps: parameters to choose from, sometimes called a \"parameter grid\" to search over (`setEstimatorParamMaps`)\n",
    "* Evaluator: metric to measure how well a fitted Model does on held-out test data (`setEvaluator`)\n",
    "\n",
    "`CrossValidator` begins by splitting the dataset into a set of folds, which are used as separate training and test datasets. For example with `k=3` folds, `CrossValidator` will generate 3 (training, test) dataset pairs, each of which uses 2/3 of the data for training and 1/3 for testing. To evaluate a particular `ParamMap`, `CrossValidator` computes the average evaluation metric for the 3 Models produced by fitting the Estimator on the 3 different (training, test) dataset pairs. After identifying the best `ParamMap`, `CrossValidator` finally re-fits the Estimator using the best ParamMap and the entire dataset.\n",
    "\n",
    "Below, use the `CrossValidator` to select the best Random Forest model. To do so, you need to define a grid of parameters. Let's say we want to do the search among the different number of trees (1, 5, and 10), and different tree depth (5, 10, and 15)."
   ]
  },
  {
   "cell_type": "code",
   "execution_count": 42,
   "metadata": {},
   "outputs": [
    {
     "name": "stdout",
     "output_type": "stream",
     "text": [
      "+-----------------+--------+--------------------+\n",
      "|       prediction|   label|            features|\n",
      "+-----------------+--------+--------------------+\n",
      "|          91396.0| 76100.0|[-62.015489219599...|\n",
      "|82728.33333333334| 81300.0|[-61.975559729558...|\n",
      "|80986.66666666667| 70500.0|[-61.975559729558...|\n",
      "|        136833.75|109400.0|[-61.975559729558...|\n",
      "|73652.33333333333| 85100.0|[-61.970568543303...|\n",
      "+-----------------+--------+--------------------+\n",
      "only showing top 5 rows\n",
      "\n",
      "Root Mean Squared Error (RMSE) on test data = 52671.21828595121\n"
     ]
    },
    {
     "data": {
      "text/plain": [
       "paramGrid = \n"
      ]
     },
     "metadata": {},
     "output_type": "display_data"
    },
    {
     "data": {
      "text/plain": [
       "lastException: Throwable = null\n",
       "Array({\n",
       "\trfr_6e9fa5bcc5a7-maxDepth: 5,\n",
       "\trfr_6e9fa5bcc5a7-numTrees: 1\n",
       "}, {\n",
       "\trfr_6e9fa5bcc5a7-maxDepth: 5,\n",
       "\trfr_6e9fa5bcc5a7-numTrees: 5\n",
       "}, {\n",
       "\trfr_6e9fa5bcc5a7-maxDepth: 5,\n",
       "\trfr_6e9fa5bcc5a7-numTrees: 10\n",
       "}, {\n",
       "\trfr_6e9fa5bcc5a7-maxDepth: 10,\n",
       "\trfr_6e9fa5bcc5a7-numTrees: 1\n",
       "}, {\n",
       "\trfr_6e9fa5bcc5a7-maxDepth: 10,\n",
       "\trfr_6e9fa5bcc5a7-numTrees: 5\n",
       "}, {\n",
       "\trfr_6e9fa5bcc5a7-maxDepth: 10,\n",
       "\trfr_6e9fa5bcc5a7-numTrees: 10\n",
       "}, {\n",
       "\trfr_6e9fa5bcc5a7-maxDepth: 15,\n",
       "\trfr_6e9fa5bcc5a7-numTrees: 1\n",
       "}, {\n",
       "\trfr_6e9fa5bcc5a7-maxDepth: 15,\n",
       "\trfr_6e9fa5bcc5a7-numTrees: 5\n",
       "}, {\n",
       "\trfr_6e9fa5bcc5a7-maxDepth: 15,\n",
       "\trfr_6e9f...\n"
      ]
     },
     "metadata": {},
     "output_type": "display_data"
    },
    {
     "data": {
      "text/plain": [
       "[{\n",
       "\trfr_6e9fa5bcc5a7-maxDepth: 5,\n",
       "\trfr_6e9fa5bcc5a7-numTrees: 1\n",
       "}, {\n",
       "\trfr_6e9fa5bcc5a7-maxDepth: 5,\n",
       "\trfr_6e9fa5bcc5a7-numTrees: 5\n",
       "}, {\n",
       "\trfr_6e9fa5bcc5a7-maxDepth: 5,\n",
       "\trfr_6e9fa5bcc5a7-numTrees: 10\n",
       "}, {\n",
       "\trfr_6e9fa5bcc5a7-maxDepth: 10,\n",
       "\trfr_6e9fa5bcc5a7-numTrees: 1\n",
       "}, {\n",
       "\trfr_6e9fa5bcc5a7-maxDepth: 10,\n",
       "\trfr_6e9fa5bcc5a7-numTrees: 5\n",
       "}, {\n",
       "\trfr_6e9fa5bcc5a7-maxDepth: 10,\n",
       "\trfr_6e9fa5bcc5a7-numTrees: 10\n",
       "}, {\n",
       "\trfr_6e9fa5bcc5a7-maxDepth: 15,\n",
       "\trfr_6e9fa5bcc5a7-numTrees: 1\n",
       "}, {\n",
       "\trfr_6e9fa5bcc5a7-maxDepth: 15,\n",
       "\trfr_6e9fa5bcc5a7-numTrees: 5\n",
       "}, {\n",
       "\trfr_6e9fa5bcc5a7-maxDepth: 15,\n",
       "\trfr_6e9fa5bcc5a7-numTrees: 10\n",
       "}]"
      ]
     },
     "execution_count": 42,
     "metadata": {},
     "output_type": "execute_result"
    }
   ],
   "source": [
    "// TODO: Replace <FILL IN> with appropriate code\n",
    "\n",
    "import org.apache.spark.ml.tuning.ParamGridBuilder\n",
    "import org.apache.spark.ml.evaluation.RegressionEvaluator\n",
    "import org.apache.spark.ml.tuning.CrossValidator\n",
    "\n",
    "val paramGrid = new ParamGridBuilder()\n",
    ".addGrid(rf.numTrees, Array(1, 5, 10))\n",
    ".addGrid(rf.maxDepth, Array(5, 10, 15))\n",
    ".build()\n",
    "\n",
    "val evaluator = new RegressionEvaluator().setLabelCol(\"label\").setPredictionCol(\"prediction\").setMetricName(\"rmse\")\n",
    "val cv = new CrossValidator().setEstimator(rf).setEstimatorParamMaps(paramGrid).setEvaluator(evaluator).setNumFolds(3)\n",
    "val cvModel = cv.fit(trainSet)\n",
    "\n",
    "val predictions = cvModel.transform(testSet)\n",
    "predictions.select(\"prediction\", \"label\", \"features\").show(5)\n",
    "\n",
    "val rmse = evaluator.evaluate(predictions)\n",
    "println(s\"Root Mean Squared Error (RMSE) on test data = $rmse\")"
   ]
  },
  {
   "cell_type": "markdown",
   "metadata": {},
   "source": [
    "---\n",
    "# 7. Custom transformer\n",
    "At the end of part two, we added extra columns to the `housing` dataset. Here, we are going to implement a Transformer to do the same task. The Transformer should take the name of two input columns `inputCol1` and `inputCol2`, as well as the name of ouput column `outputCol`. It, then, computes `inputCol1` divided by `inputCol2`, and adds its result as a new column to the dataset. The details of the implemeting a custom Tranfomer is explained [here](https://www.oreilly.com/learning/extend-spark-ml-for-your-own-modeltransformer-types). Please read it before before starting to implement it.\n",
    "\n",
    "First, define the given parameters of the Transformer and implement a method to validate their schemas (`StructType`)."
   ]
  },
  {
   "cell_type": "code",
   "execution_count": null,
   "metadata": {},
   "outputs": [],
   "source": [
    "import org.apache.spark.sql.types.{StructField, StructType, DoubleType}\n",
    "import org.apache.spark.ml.param.{ParamMap, Param, Params}\n",
    "\n",
    "trait MyParams extends Params {\n",
    "    final val inputCol1 = <FILL IN>\n",
    "    final val inputCol2 = <FILL IN>\n",
    "    final val outputCol = <FILL IN>\n",
    "    \n",
    "  protected def validateAndTransformSchema(schema: StructType): StructType = {\n",
    "    <FILL IN>  \n",
    "  }\n",
    "}\n"
   ]
  },
  {
   "cell_type": "markdown",
   "metadata": {},
   "source": [
    "Then, extend the class `Transformer`, and implement its setter functions for the input and output columns, and call then `setInputCol1`, `setInputCol2`, and `setOutputCol`. Morever, you need to override the methods `copy`, `transformSchema`, and the `transform`. The details of what you need to cover in these methods is given [here](https://www.oreilly.com/learning/extend-spark-ml-for-your-own-modeltransformer-types)."
   ]
  },
  {
   "cell_type": "code",
   "execution_count": null,
   "metadata": {},
   "outputs": [],
   "source": [
    "import org.apache.spark.ml.util.Identifiable\n",
    "import org.apache.spark.ml.Transformer\n",
    "import org.apache.spark.ml.param.{ParamMap, Param, Params}\n",
    "import org.apache.spark.sql.{DataFrame, Dataset}\n",
    "import org.apache.spark.sql.types.StructType\n",
    "import org.apache.spark.sql.functions.{col, udf}\n",
    "\n",
    "class MyTransformer(override val uid: String) extends Transformer with MyParams {\n",
    "    def this() = this(Identifiable.randomUID(\"configurablewordcount\"))\n",
    "    \n",
    "    def setInputCol1(value: String): <FILL IN>\n",
    "    \n",
    "    def setInputCol2(value: String): <FILL IN>\n",
    "    \n",
    "    def setOutputCol(value: String): <FILL IN>\n",
    "\n",
    "    override def copy(extra: ParamMap) <FILL IN>\n",
    "\n",
    "    override def transformSchema(schema: StructType) <FILL IN>\n",
    "    \n",
    "    override def transform(dataset: Dataset[_]): DataFrame = {\n",
    "        <FILL IN>\n",
    "  }\n",
    "}"
   ]
  },
  {
   "cell_type": "markdown",
   "metadata": {},
   "source": [
    "Now, an instance of `MyTransformer`, and set the input columns `total_rooms` and `households`, and the output column `rooms_per_household` and run it over the `housing` dataset."
   ]
  },
  {
   "cell_type": "code",
   "execution_count": null,
   "metadata": {},
   "outputs": [],
   "source": [
    "val myTransformer = new MyTransformer().setInputCol1(\"total_rooms\").setInputCol2(\"households\").setOutputCol(\"rooms_per_household\")\n",
    "\n",
    "val myDataset = myTransformer.transform(housing).select(\"rooms_per_household\").show(5)"
   ]
  },
  {
   "cell_type": "markdown",
   "metadata": {},
   "source": [
    "---\n",
    "# 8. Custom estimator (predictor)\n",
    "Now, it's time to implement your own linear regression with gradient descent algorithm as a brand new Estimator. The whole code of the Estimator is given to you, and you do not need to implement anything. It is just a sample that shows how to build a custom Estimator.\n",
    "\n",
    "The gradient descent update for linear regression is:\n",
    "$$\n",
    "w_{i+1} = w_{i} - \\alpha_{i} \\sum\\limits_{j=1}^n (w_i^\\top x_j - y_j)x_j\n",
    "$$\n",
    "\n",
    "where $i$ is the iteration number of the gradient descent algorithm, and $j$ identifies the observation. Here, $w$ represents an array of weights that is the same size as the array of features and provides a weight for each of the features when finally computing the label prediction in the form:\n",
    "\n",
    "$$\n",
    "prediction = w^\\top \\cdot\\ x\n",
    "$$\n",
    "\n",
    "where $w$ is the final array of weights computed by the gradient descent, $x$ is the array of features of the observation point and $prediction$ is the label we predict should be associated to this observation.\n",
    "\n",
    "The given `Helper` class implements the helper methods:\n",
    "* `dot`: implements the dot product of two vectors and the dot product of a vector and a scalar\n",
    "* `sum`: implements addition of two vectors\n",
    "* `fill`: creates a vector of predefined size and initialize it with the predefined value\n",
    "\n",
    "What you need to do is to implement the methods of the Linear Regresstion class `LR`, which are\n",
    "* `rmsd`: computes the Root Mean Square Error of a given RDD of tuples of (label, prediction) using the formula:\n",
    "$$\n",
    "rmse = \\sqrt{\\frac{\\sum\\limits_{i=1}^n (label - prediction)^2}{n}}\n",
    "$$\n",
    "* `gradientSummand`: computes the following formula:\n",
    "$$\n",
    "gs_{ij} = (w_i^\\top x_j - y_j)x_j\n",
    "$$\n",
    "* `gradient`: computes the following formula:\n",
    "$$\n",
    "gradient = \\sum\\limits_{j=1}^n gs_{ij}\n",
    "$$"
   ]
  },
  {
   "cell_type": "code",
   "execution_count": null,
   "metadata": {},
   "outputs": [],
   "source": [
    "import org.apache.spark.ml.linalg.Vector\n",
    "import org.apache.spark.ml.PredictorParams\n",
    "import org.apache.spark.ml.param.ParamMap\n",
    "import org.apache.spark.ml.util._\n",
    "import org.apache.spark.rdd.RDD\n",
    "import org.apache.spark.sql.Dataset\n",
    "import org.apache.spark.sql.functions._\n",
    "import org.apache.spark.sql.Row\n",
    "import org.apache.spark.ml.linalg.Vectors\n",
    "import org.apache.spark.ml.linalg.Matrices\n",
    "import org.apache.spark.mllib.evaluation.RegressionMetrics\n",
    "import org.apache.spark.ml.{PredictionModel, Predictor}\n",
    "\n",
    "case class Instance(label: Double, features: Vector)\n",
    "\n",
    "object Helper extends Serializable {\n",
    "  def dot(v1: Vector, v2: Vector): Double = {\n",
    "    val m = Matrices.dense(1, v1.size, v1.toArray)\n",
    "    m.multiply(v2).values(0)\n",
    "  }\n",
    "\n",
    "  def dot(v: Vector, s: Double): Vector = {\n",
    "    val baseArray = v.toArray.map(vi => vi * s)\n",
    "    Vectors.dense(baseArray)\n",
    "  }\n",
    "\n",
    "  def sumVectors(v1: Vector, v2: Vector): Vector = {\n",
    "    val baseArray = ((v1.toArray) zip (v2.toArray)).map { case (val1, val2) => val1 + val2 }\n",
    "    Vectors.dense(baseArray)\n",
    "  }\n",
    "\n",
    "  def fillVector(size: Int, fillVal: Double): Vector = Vectors.dense(Array.fill[Double](size)(fillVal));\n",
    "}"
   ]
  },
  {
   "cell_type": "code",
   "execution_count": null,
   "metadata": {},
   "outputs": [],
   "source": [
    "class LR() extends Serializable {\n",
    "  def calcRMSE(labelsAndPreds: RDD[(Double, Double)]): Double = {\n",
    "    val regressionMetrics = new RegressionMetrics(labelsAndPreds)\n",
    "    regressionMetrics.rootMeanSquaredError\n",
    "  }\n",
    "  \n",
    "  def gradientSummand(weights: Vector, lp: Instance): Vector = {\n",
    "    val mult = (Helper.dot(weights, lp.features) - lp.label)\n",
    "    val seq = (0 to lp.features.size - 1).map(i => lp.features(i) * mult)\n",
    "    return Vectors.dense(seq.toArray)\n",
    "  }\n",
    "  \n",
    "  def linregGradientDescent(trainData: RDD[Instance], numIters: Int): (Vector, Array[Double]) = {\n",
    "    val n = trainData.count()\n",
    "    val d = trainData.take(1)(0).features.size\n",
    "    var w = Helper.fillVector(d, 0)\n",
    "    val alpha = 1.0\n",
    "    val errorTrain = Array.fill[Double](numIters)(0.0)\n",
    "\n",
    "    for (i <- 0 until numIters) {\n",
    "      val labelsAndPredsTrain = trainData.map(lp => (lp.label, Helper.dot(w, lp.features)))\n",
    "      errorTrain(i) = calcRMSE(labelsAndPredsTrain)\n",
    "\n",
    "      val gradient = trainData.map(lp => gradientSummand(w, lp)).reduce((v1, v2) => Helper.sumVectors(v1, v2))\n",
    "      val alpha_i = alpha / (n * scala.math.sqrt(i + 1))\n",
    "      val wAux = Helper.dot(gradient, (-1) * alpha_i)\n",
    "      w = Helper.sumVectors(w, wAux)\n",
    "    }\n",
    "    (w, errorTrain)\n",
    "  }\n",
    "}"
   ]
  },
  {
   "cell_type": "code",
   "execution_count": null,
   "metadata": {},
   "outputs": [],
   "source": [
    "abstract class MyLinearModel[FeaturesType, Model <: MyLinearModel[FeaturesType, Model]]\n",
    "  extends PredictionModel[FeaturesType, Model] {\n",
    "}\n",
    "\n",
    "class MyLinearModelImpl(override val uid: String, val weights: Vector, val trainingError: Array[Double])\n",
    "    extends MyLinearModel[Vector, MyLinearModelImpl] {\n",
    "\n",
    "  override def copy(extra: ParamMap): MyLinearModelImpl = defaultCopy(extra)\n",
    "\n",
    "  def predict(features: Vector): Double = {\n",
    "    println(\"Predicting\")\n",
    "    val prediction = Helper.dot(weights, features)\n",
    "    prediction\n",
    "  }\n",
    "}"
   ]
  },
  {
   "cell_type": "code",
   "execution_count": null,
   "metadata": {},
   "outputs": [],
   "source": [
    "import org.apache.spark.ml.linalg.Vector\n",
    "import org.apache.spark.ml.PredictorParams\n",
    "import org.apache.spark.ml.param.ParamMap\n",
    "import org.apache.spark.ml.util._\n",
    "import org.apache.spark.rdd.RDD\n",
    "import org.apache.spark.sql.Dataset\n",
    "import org.apache.spark.sql.functions._\n",
    "\n",
    "import org.apache.spark.sql.Row\n",
    "import org.apache.spark.ml.linalg.Vectors\n",
    "import org.apache.spark.ml.linalg.Matrices\n",
    "import org.apache.spark.mllib.evaluation.RegressionMetrics\n",
    "import org.apache.spark.ml.{PredictionModel, Predictor}\n",
    "\n",
    "abstract class MyLinearRegression[\n",
    "    FeaturesType,\n",
    "    Learner <: MyLinearRegression[FeaturesType, Learner, Model],\n",
    "    Model <: MyLinearModel[FeaturesType, Model]]\n",
    "  extends Predictor[FeaturesType, Learner, Model] {\n",
    "}\n",
    "\n",
    "class MyLinearRegressionImpl(override val uid: String)\n",
    "    extends MyLinearRegression[Vector, MyLinearRegressionImpl, MyLinearModelImpl] {\n",
    "  def this() = this(Identifiable.randomUID(\"linReg\"))\n",
    "\n",
    "  override def copy(extra: ParamMap): MyLinearRegressionImpl = defaultCopy(extra)\n",
    "  \n",
    "  def train(dataset: Dataset[_]): MyLinearModelImpl = {\n",
    "    println(\"Training\")\n",
    "\n",
    "    val numIters = 10\n",
    "\n",
    "    val instances: RDD[Instance] = dataset.select(\n",
    "      col($(labelCol)), col($(featuresCol))).rdd.map {\n",
    "        case Row(label: Double, features: Vector) =>\n",
    "          Instance(label, features)\n",
    "      }\n",
    "\n",
    "    val (weights, trainingError) = new LR().linregGradientDescent(instances, numIters)\n",
    "\n",
    "    new MyLinearModelImpl(uid, weights, trainingError)\n",
    "  }\n",
    "}"
   ]
  },
  {
   "cell_type": "code",
   "execution_count": null,
   "metadata": {},
   "outputs": [],
   "source": [
    "import org.apache.spark.ml.evaluation.RegressionEvaluator\n",
    "\n",
    "val lr = new MyLinearRegressionImpl().setLabelCol(\"label\").setFeaturesCol(\"features\")\n",
    "val model = lr.fit(trainSet)\n",
    "val predictions = model.transform(trainSet)\n",
    "predictions.select(\"prediction\", \"label\", \"features\").show(5)\n",
    "\n",
    "// Select (prediction, true label) and compute test error.\n",
    "val evaluator = new RegressionEvaluator().setLabelCol(\"label\").setPredictionCol(\"prediction\").setMetricName(\"rmse\")\n",
    "val rmse = evaluator.evaluate(predictions)\n",
    "println(s\"Root Mean Squared Error (RMSE) on test data = $rmse\")"
   ]
  },
  {
   "cell_type": "markdown",
   "metadata": {},
   "source": [
    "---\n",
    "# 9. An End-to-End Classification Test\n",
    "As the last step, you are given a dataset called `data/ccdefault.csv`. The dataset represents default of credit card clients. It has 30,000 cases and 24 different attributes. More details about the dataset is available at `data/ccdefault.txt`. In this task you should make three models, compare their results and conclude the ideal solution. Here are the suggested steps:\n",
    "1. Load the data.\n",
    "2. Carry out some exploratory analyses (e.g., how various features and the target variable are distributed).\n",
    "3. Train a model to predict the target variable (risk of `default`).\n",
    "  - Employ three different models (logistic regression, decision tree, and random forest).\n",
    "  - Compare the models' performances (e.g., AUC).\n",
    "  - Defend your choice of best model (e.g., what are the strength and weaknesses of each of these models?).\n",
    "4. What more would you do with this data? Anything to help you devise a better solution?"
   ]
  },
  {
   "cell_type": "markdown",
   "metadata": {},
   "source": [
    "## Load the data"
   ]
  },
  {
   "cell_type": "code",
   "execution_count": 43,
   "metadata": {},
   "outputs": [
    {
     "data": {
      "text/plain": [
       "ccdefault = [ID: int, LIMIT_BAL: int ... 23 more fields]\n"
      ]
     },
     "metadata": {},
     "output_type": "display_data"
    },
    {
     "data": {
      "text/plain": [
       "[ID: int, LIMIT_BAL: int ... 23 more fields]"
      ]
     },
     "execution_count": 43,
     "metadata": {},
     "output_type": "execute_result"
    }
   ],
   "source": [
    "val ccdefault = spark.read.format(\"csv\").option(\"inferSchema\", \"true\").option(\"header\", \"true\").load(\"data/ccdefault.csv\")"
   ]
  },
  {
   "cell_type": "markdown",
   "metadata": {},
   "source": [
    "## Exploratory analyses"
   ]
  },
  {
   "cell_type": "code",
   "execution_count": 45,
   "metadata": {},
   "outputs": [
    {
     "name": "stdout",
     "output_type": "stream",
     "text": [
      "root\n",
      " |-- ID: integer (nullable = true)\n",
      " |-- LIMIT_BAL: integer (nullable = true)\n",
      " |-- SEX: integer (nullable = true)\n",
      " |-- EDUCATION: integer (nullable = true)\n",
      " |-- MARRIAGE: integer (nullable = true)\n",
      " |-- AGE: integer (nullable = true)\n",
      " |-- PAY_0: integer (nullable = true)\n",
      " |-- PAY_2: integer (nullable = true)\n",
      " |-- PAY_3: integer (nullable = true)\n",
      " |-- PAY_4: integer (nullable = true)\n",
      " |-- PAY_5: integer (nullable = true)\n",
      " |-- PAY_6: integer (nullable = true)\n",
      " |-- BILL_AMT1: integer (nullable = true)\n",
      " |-- BILL_AMT2: integer (nullable = true)\n",
      " |-- BILL_AMT3: integer (nullable = true)\n",
      " |-- BILL_AMT4: integer (nullable = true)\n",
      " |-- BILL_AMT5: integer (nullable = true)\n",
      " |-- BILL_AMT6: integer (nullable = true)\n",
      " |-- PAY_AMT1: integer (nullable = true)\n",
      " |-- PAY_AMT2: integer (nullable = true)\n",
      " |-- PAY_AMT3: integer (nullable = true)\n",
      " |-- PAY_AMT4: integer (nullable = true)\n",
      " |-- PAY_AMT5: integer (nullable = true)\n",
      " |-- PAY_AMT6: integer (nullable = true)\n",
      " |-- DEFAULT: integer (nullable = true)\n",
      "\n"
     ]
    }
   ],
   "source": [
    "ccdefault.printSchema()"
   ]
  },
  {
   "cell_type": "code",
   "execution_count": 46,
   "metadata": {},
   "outputs": [
    {
     "data": {
      "text/plain": [
       "30000"
      ]
     },
     "execution_count": 46,
     "metadata": {},
     "output_type": "execute_result"
    }
   ],
   "source": [
    "// number of records\n",
    "ccdefault.count()"
   ]
  },
  {
   "cell_type": "code",
   "execution_count": 47,
   "metadata": {},
   "outputs": [
    {
     "data": {
      "text/html": [
       "<table>\n",
       "<tr><td>1</td><td>20000</td><td>2</td><td>2</td><td>1</td><td>24</td><td>2</td><td>2</td><td>-1</td><td>-1</td><td>-2</td><td>-2</td><td>3913</td><td>3102</td><td>689</td><td>0</td><td>0</td><td>0</td><td>0</td><td>689</td><td>0</td><td>0</td><td>0</td><td>0</td><td>1</td></tr>\n",
       "<tr><td>2</td><td>120000</td><td>2</td><td>2</td><td>2</td><td>26</td><td>-1</td><td>2</td><td>0</td><td>0</td><td>0</td><td>2</td><td>2682</td><td>1725</td><td>2682</td><td>3272</td><td>3455</td><td>3261</td><td>0</td><td>1000</td><td>1000</td><td>1000</td><td>0</td><td>2000</td><td>1</td></tr>\n",
       "<tr><td>3</td><td>90000</td><td>2</td><td>2</td><td>2</td><td>34</td><td>0</td><td>0</td><td>0</td><td>0</td><td>0</td><td>0</td><td>29239</td><td>14027</td><td>13559</td><td>14331</td><td>14948</td><td>15549</td><td>1518</td><td>1500</td><td>1000</td><td>1000</td><td>1000</td><td>5000</td><td>0</td></tr>\n",
       "<tr><td>4</td><td>50000</td><td>2</td><td>2</td><td>1</td><td>37</td><td>0</td><td>0</td><td>0</td><td>0</td><td>0</td><td>0</td><td>46990</td><td>48233</td><td>49291</td><td>28314</td><td>28959</td><td>29547</td><td>2000</td><td>2019</td><td>1200</td><td>1100</td><td>1069</td><td>1000</td><td>0</td></tr>\n",
       "<tr><td>5</td><td>50000</td><td>1</td><td>2</td><td>1</td><td>57</td><td>-1</td><td>0</td><td>-1</td><td>0</td><td>0</td><td>0</td><td>8617</td><td>5670</td><td>35835</td><td>20940</td><td>19146</td><td>19131</td><td>2000</td><td>36681</td><td>10000</td><td>9000</td><td>689</td><td>679</td><td>0</td></tr>\n",
       "</table>"
      ],
      "text/plain": [
       "+-----+--------+-----+-----+-----+-----+-----+-----+-----+-----+-----+-----+-------+-------+-------+-------+-------+-------+------+-------+-------+------+------+------+-----+\n",
       "| 1   | 20000  | 2   | 2   | 1   | 24  | 2   | 2   | -1  | -1  | -2  | -2  | 3913  | 3102  | 689   | 0     | 0     | 0     | 0    | 689   | 0     | 0    | 0    | 0    | 1   |\n",
       "| 2   | 120000 | 2   | 2   | 2   | 26  | -1  | 2   | 0   | 0   | 0   | 2   | 2682  | 1725  | 2682  | 3272  | 3455  | 3261  | 0    | 1000  | 1000  | 1000 | 0    | 2000 | 1   |\n",
       "| 3   | 90000  | 2   | 2   | 2   | 34  | 0   | 0   | 0   | 0   | 0   | 0   | 29239 | 14027 | 13559 | 14331 | 14948 | 15549 | 1518 | 1500  | 1000  | 1000 | 1000 | 5000 | 0   |\n",
       "| 4   | 50000  | 2   | 2   | 1   | 37  | 0   | 0   | 0   | 0   | 0   | 0   | 46990 | 48233 | 49291 | 28314 | 28959 | 29547 | 2000 | 2019  | 1200  | 1100 | 1069 | 1000 | 0   |\n",
       "| 5   | 50000  | 1   | 2   | 1   | 57  | -1  | 0   | -1  | 0   | 0   | 0   | 8617  | 5670  | 35835 | 20940 | 19146 | 19131 | 2000 | 36681 | 10000 | 9000 | 689  | 679  | 0   |\n",
       "+-----+--------+-----+-----+-----+-----+-----+-----+-----+-----+-----+-----+-------+-------+-------+-------+-------+-------+------+-------+-------+------+------+------+-----+"
      ]
     },
     "execution_count": 47,
     "metadata": {},
     "output_type": "execute_result"
    }
   ],
   "source": [
    "// print 5 records\n",
    "ccdefault.take(5)"
   ]
  },
  {
   "cell_type": "code",
   "execution_count": 49,
   "metadata": {},
   "outputs": [
    {
     "name": "stdout",
     "output_type": "stream",
     "text": [
      "+-------+-----------------+\n",
      "|summary|              AGE|\n",
      "+-------+-----------------+\n",
      "|  count|            30000|\n",
      "|   mean|          35.4855|\n",
      "| stddev|9.217904068090155|\n",
      "|    min|               21|\n",
      "|    max|               79|\n",
      "+-------+-----------------+\n",
      "\n"
     ]
    }
   ],
   "source": [
    "// summary of age attribute\n",
    "ccdefault.describe(\"AGE\").show()"
   ]
  },
  {
   "cell_type": "code",
   "execution_count": 52,
   "metadata": {},
   "outputs": [
    {
     "name": "stdout",
     "output_type": "stream",
     "text": [
      "+-------+------------------+--------------------+------------------+--------------------+------------------+-----------------+\n",
      "|summary|             PAY_0|               PAY_2|             PAY_3|               PAY_4|             PAY_5|            PAY_6|\n",
      "+-------+------------------+--------------------+------------------+--------------------+------------------+-----------------+\n",
      "|  count|             30000|               30000|             30000|               30000|             30000|            30000|\n",
      "|   mean|           -0.0167|-0.13376666666666667|           -0.1662|-0.22066666666666668|           -0.2662|          -0.2911|\n",
      "| stddev|1.1238015279973335|  1.1971859730345495|1.1968675684465686|  1.1691386224023357|1.1331874060027525|1.149987625607897|\n",
      "|    min|                -2|                  -2|                -2|                  -2|                -2|               -2|\n",
      "|    max|                 8|                   8|                 8|                   8|                 8|                8|\n",
      "+-------+------------------+--------------------+------------------+--------------------+------------------+-----------------+\n",
      "\n"
     ]
    }
   ],
   "source": [
    "// summary of payment history related attributes PAY_0, PAY_2, PAY_3, PAY_4, PAY_5, PAY_6\n",
    "ccdefault.describe(\"PAY_0\", \"PAY_2\", \"PAY_3\", \"PAY_4\", \"PAY_5\", \"PAY_6\").show()"
   ]
  },
  {
   "cell_type": "code",
   "execution_count": 54,
   "metadata": {},
   "outputs": [
    {
     "name": "stdout",
     "output_type": "stream",
     "text": [
      "+-------+-----------------+-----------------+-----------------+------------------+-----------------+----------------+\n",
      "|summary|        BILL_AMT1|        BILL_AMT2|        BILL_AMT3|         BILL_AMT4|        BILL_AMT5|       BILL_AMT6|\n",
      "+-------+-----------------+-----------------+-----------------+------------------+-----------------+----------------+\n",
      "|  count|            30000|            30000|            30000|             30000|            30000|           30000|\n",
      "|   mean|       51223.3309|49179.07516666667|       47013.1548| 43262.94896666666|40311.40096666667|      38871.7604|\n",
      "| stddev|73635.86057552966|71173.76878252832|69349.38742703677|64332.856133916444|60797.15577026471|59554.1075367459|\n",
      "|    min|          -165580|           -69777|          -157264|           -170000|           -81334|         -339603|\n",
      "|    max|           964511|           983931|          1664089|            891586|           927171|          961664|\n",
      "+-------+-----------------+-----------------+-----------------+------------------+-----------------+----------------+\n",
      "\n"
     ]
    }
   ],
   "source": [
    "// summary of bill amount related attributes BILL_AMT1, BILL_AMT2, BILL_AMT3, BILL_AMT4, BILL_AMT5, BILL_AMT6\n",
    "ccdefault.describe(\"BILL_AMT1\", \"BILL_AMT2\", \"BILL_AMT3\", \"BILL_AMT4\", \"BILL_AMT5\", \"BILL_AMT6\").show()"
   ]
  },
  {
   "cell_type": "code",
   "execution_count": 55,
   "metadata": {},
   "outputs": [
    {
     "name": "stdout",
     "output_type": "stream",
     "text": [
      "+-------+-----------------+------------------+-----------------+------------------+------------------+-----------------+\n",
      "|summary|         PAY_AMT1|          PAY_AMT2|         PAY_AMT3|          PAY_AMT4|          PAY_AMT5|         PAY_AMT6|\n",
      "+-------+-----------------+------------------+-----------------+------------------+------------------+-----------------+\n",
      "|  count|            30000|             30000|            30000|             30000|             30000|            30000|\n",
      "|   mean|        5663.5805|         5921.1635|        5225.6815| 4826.076866666666| 4799.387633333334|5215.502566666667|\n",
      "| stddev|16563.28035402577|23040.870402057186|17606.96146980311|15666.159744032062|15278.305679144742|17777.46577543531|\n",
      "|    min|                0|                 0|                0|                 0|                 0|                0|\n",
      "|    max|           873552|           1684259|           896040|            621000|            426529|           528666|\n",
      "+-------+-----------------+------------------+-----------------+------------------+------------------+-----------------+\n",
      "\n"
     ]
    }
   ],
   "source": [
    "// summary of previous payment amount related attributes PAY_AMT1, PAY_AMT2, PAY_AMT3, PAY_AMT4, PAY_AMT5, PAY_AMT6\n",
    "ccdefault.describe(\"PAY_AMT1\", \"PAY_AMT2\", \"PAY_AMT3\", \"PAY_AMT4\", \"PAY_AMT5\", \"PAY_AMT6\").show()"
   ]
  },
  {
   "cell_type": "code",
   "execution_count": null,
   "metadata": {},
   "outputs": [],
   "source": []
  }
 ],
 "metadata": {
  "kernelspec": {
   "display_name": "Spark - Scala",
   "language": "scala",
   "name": "spark_scala"
  },
  "language_info": {
   "codemirror_mode": "text/x-scala",
   "file_extension": ".scala",
   "mimetype": "text/x-scala",
   "name": "scala",
   "pygments_lexer": "scala",
   "version": "2.11.8"
  }
 },
 "nbformat": 4,
 "nbformat_minor": 2
}
